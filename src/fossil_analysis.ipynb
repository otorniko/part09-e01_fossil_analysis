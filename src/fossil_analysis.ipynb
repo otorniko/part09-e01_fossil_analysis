{
 "cells": [
  {
   "cell_type": "markdown",
   "metadata": {},
   "source": [
    "# Detecting patterns of speciation in the fos- sil record\n",
    "\n",
    "In this assignment, we use data from the NOW (New and Old Worlds) database of fossil mammals to study patterns of speciation over time and space. In particular, we are interested to know when and where speciation rates have been significantly high. The task is to find which time periods and which places over the history of mammals have given rise to exceptionally high numbers of new species. The phenomenon is known in the evolutionary literature as the “species factory”. Palaeontologists are interested why and in which ways those times and places are special. The role of computational science is to identify and characterize such times and places.\n",
    "We practice using pandas DataFrames, performing logistic regression and making statistical significance tests in data analysis."
   ]
  },
  {
   "cell_type": "code",
   "execution_count": null,
   "metadata": {},
   "outputs": [],
   "source": [
    "import pandas as pd\n",
    "import numpy as np"
   ]
  },
  {
   "cell_type": "markdown",
   "metadata": {},
   "source": [
    "Exercise 2. Create a pandas DataFrame that contains all of the data\n",
    "and save it as a csv file. How many rows does the DataFrame contain?"
   ]
  },
  {
   "cell_type": "code",
   "execution_count": null,
   "metadata": {},
   "outputs": [],
   "source": [
    "df = pd.read_csv(\"now.txt\", sep=',')\n",
    "\n",
    "num_rows = len(df)\n",
    "print(f\"The DataFrame contains {num_rows} rows.\")\n",
    "df.to_csv(\"data.csv\", index=False)"
   ]
  },
  {
   "cell_type": "markdown",
   "metadata": {},
   "source": [
    "Exercise 3. a) Remove all rows where LAT = LONG = 0; these occurrences have incorrect coordinates. Drop rows where SPECIES is “sp.” or\n",
    "“indet.”; these occurrences have not been properly identified."
   ]
  },
  {
   "cell_type": "code",
   "execution_count": null,
   "metadata": {},
   "outputs": [],
   "source": [
    "condition_lat_long_zero = (df['LAT'] == 0) & (df['LONG'] == 0)\n",
    "df = df[~condition_lat_long_zero]\n",
    "        \n",
    "print(f\"Number of rows after removing LAT=0 & LONG=0: {len(df)}\")\n",
    "\n",
    "species_to_remove = [\"sp.\", \"indet.\"]\n",
    "condition_unidentified_species = df['SPECIES'].isin(species_to_remove)\n",
    "df = df[~condition_unidentified_species]\n",
    "\n",
    "print(f\"Number of rows after removing unidentified species ('sp.', 'indet.'): {len(df)}\")"
   ]
  },
  {
   "cell_type": "markdown",
   "metadata": {},
   "source": [
    "b) Next we will assign each occurrence to a specific Mammal Neogene\n",
    "(MN) time unit. Table 1 shows the time boundaries of each time unit.\n",
    "Assign each occurrence to a correct time unit by calculating the mean of\n",
    "MIN AGE and MAX AGE. If the mean age of an occurrence is precisely\n",
    "on the boundary between two time units, assign the occurrence to the\n",
    "older time unit. If the mean age of an occurrence is outside of the MN\n",
    "time interval, assign it to a “pre-MN” or “post-MN” category."
   ]
  },
  {
   "cell_type": "code",
   "execution_count": null,
   "metadata": {},
   "outputs": [],
   "source": [
    "mn_boundaries = {\n",
    "    \"MN1\": (23.0, 21.7),\n",
    "    \"MN2\": (21.7, 19.5),\n",
    "    \"MN3\": (19.5, 17.2),\n",
    "    \"MN4\": (17.2, 16.4),\n",
    "    \"MN5\": (16.4, 14.2),\n",
    "    \"MN6\": (14.2, 12.85),\n",
    "    \"MN7-8\": (12.85, 11.2),\n",
    "    \"MN9\": (11.2, 9.9),\n",
    "    \"MN10\": (9.9, 8.9),\n",
    "    \"MN11\": (8.9, 7.6),\n",
    "    \"MN12\": (7.6, 7.1),\n",
    "    \"MN13\": (7.1, 5.3),\n",
    "    \"MN14\": (5.3, 5.0),\n",
    "    \"MN15\": (5.0, 3.55),\n",
    "    \"MN16\": (3.55, 2.5),\n",
    "    \"MN17\": (2.5, 1.9),\n",
    "    \"MQ18\": (1.9, 0.85), \n",
    "    \"MQ19\": (0.85, 0.01) \n",
    "}\n",
    "\n",
    "overall_start_age = mn_boundaries[\"MN1\"][0]\n",
    "overall_end_age = mn_boundaries[\"MQ19\"][1]\n",
    "\n",
    "\"\"\" Calculate mean age, handling potential NaN values if necessary\n",
    "    Assigns an occurrence to an MN unit based on its mean age.\"\"\"\n",
    "def assign_mn_unit(row):\n",
    "    if pd.isna(row['MIN AGE']) or pd.isna(row['MAX AGE']):\n",
    "        return 'unknown_age' \n",
    "    mean_age = (row['MIN AGE'] + row['MAX AGE']) / 2.0\n",
    "    if mean_age > overall_start_age:\n",
    "        return 'pre-MN'\n",
    "    elif mean_age < overall_end_age: \n",
    "        return 'post-MN'\n",
    "    else:\n",
    "        for unit, (start_age, end_age) in mn_boundaries.items():\n",
    "            if mean_age >= end_age and mean_age < start_age:\n",
    "                return unit\n",
    "        if mean_age == overall_end_age:\n",
    "             for unit, (start_age, end_age) in mn_boundaries.items():\n",
    "                 if end_age == overall_end_age:\n",
    "                     return unit\n",
    "    return 'assignment_error' \n",
    "df['MIN AGE'] = pd.to_numeric(df['MIN AGE'], errors='coerce')\n",
    "df['MAX AGE'] = pd.to_numeric(df['MAX AGE'], errors='coerce')\n",
    "df['MN_Unit'] = df.apply(assign_mn_unit, axis=1)\n",
    "print(\"First 5 rows with assigned MN Unit:\")\n",
    "print(df[['LIDNUM', 'MIN AGE', 'MAX AGE', 'MN_Unit']].head())\n",
    "print(\"\\nCounts per MN Unit:\")\n",
    "print(df['MN_Unit'].value_counts().sort_index())\n",
    "print(\"\\nChecking for assignment issues:\")\n",
    "print(df[df['MN_Unit'] == 'unknown_age'][['LIDNUM', 'MIN AGE', 'MAX AGE']].head())\n",
    "print(df[df['MN_Unit'] == 'assignment_error'][['LIDNUM', 'MIN AGE', 'MAX AGE']].head())\n"
   ]
  },
  {
   "cell_type": "markdown",
   "metadata": {},
   "source": [
    "c) Sometimes expert knowledge may be used to override some of the\n",
    "information recorded in the data. In our case, experts in palaeontology\n",
    "tell us that occurrences in the localities “Samos Main Bone Beds” and\n",
    "“Can Llobateres I” should be assigned to time units MN12 and MN9,\n",
    "respectively. Check these and if necessary, edit the time units to their\n",
    "correct values.\n"
   ]
  },
  {
   "cell_type": "markdown",
   "metadata": {},
   "source": [
    "d) We need to be able to identify all occurrences of each species. Assign a unique identification number for each unique combination of GENUS and SPECIES. Create a new column in the DataFrame and label each\n",
    "occurrence with a corresponding species identification number."
   ]
  },
  {
   "cell_type": "markdown",
   "metadata": {},
   "source": [
    "e) Each locality should contain no more than one occurrence of any\n",
    "species. Check whether this is the case and remove duplicate copies, if\n",
    "necessary."
   ]
  },
  {
   "cell_type": "markdown",
   "metadata": {},
   "source": [
    "f) How many rows are we left with in the DataFrame (compare with\n",
    "exercise 2)? How many unique species and localities are identified?"
   ]
  },
  {
   "cell_type": "markdown",
   "metadata": {},
   "source": [
    "Exercise 4. Create a DataFrame that shows for each species how many\n",
    "occurrences it has in each time unit. Then, create a different DataFrame\n",
    "that shows for each species the time unit when it is first observed (i.e.\n",
    "the oldest time unit). For each time unit, calculate the proportion of first\n",
    "occurrences to all occurrences. Plot the proportion of first occurrences\n",
    "over time. Also, plot the total number of occurrences over time."
   ]
  },
  {
   "cell_type": "markdown",
   "metadata": {},
   "source": [
    "Exercise 5. a) Create a DataFrame that collects the following information for every locality: locality number (LIDNUM), longitude, latitude,\n",
    "time unit, number of first occurrences in the locality, number of all occurrences in the locality and proportion of first occurrences in the locality. Note, you should use LIDNUM to identify unique localities and not the NAME variable (why?)."
   ]
  },
  {
   "cell_type": "markdown",
   "metadata": {},
   "source": [
    "b) Visualize the distribution of localities in space and time. For each time\n",
    "unit, plot the LAT and LONG coordinates of each locality (corresponding\n",
    "to the time unit). For example, you can use the above codes to create a\n",
    "geographic map and then use a standard matplotlib scatter plot to add\n",
    "the localities. Choose the marker size for each locality such that it is\n",
    "relative to the number of occurrences in the locality (bigger markers for\n",
    "bigger localities)."
   ]
  },
  {
   "cell_type": "markdown",
   "metadata": {},
   "source": [
    "c) Based on exercises 4 and 5, what kind of observations about sampling\n",
    "can you make? Are there differences in sampling density over space and\n",
    "time? Compare some basic sampling properties between Africa, Asia and\n",
    "Europe, e.g. spatial coverage and average number of occurrences per\n",
    "locality"
   ]
  },
  {
   "cell_type": "markdown",
   "metadata": {},
   "source": [
    "Exercise 6. For each locality, look at a ten by ten degrees area (in\n",
    "latitude and longitude) centered around the locality. Record the total\n",
    "number of occurrences and total number of first occurrences found within\n",
    "that square in the time unit corresponding to the focal locality. Also,\n",
    "record the total number of occurrences within that square in the preceding\n",
    "time unit (relative to the focal locality). Record these numbers into the\n",
    "DataFrame that was created in exercise 5 (add new columns)."
   ]
  },
  {
   "cell_type": "markdown",
   "metadata": {},
   "source": [
    "Exercise 7. a) Create the regression data set. Only use localities within\n",
    "the co-ordinates -25<LONG<40 and LAT>35 and time unit within MN2-\n",
    "MQ19 (why not include MN1?). Create an m × 2 array, where m is the\n",
    "total number of occurrences in all the localities. Each row in the array\n",
    "represents one occurrence. For each occurrence, fill in to the first column\n",
    "of the array the number of occurrences in the focal area in the previous\n",
    "time unit (calculated in exercise 6). For the second column, fill in 1 for a\n",
    "first occurrence and 0 for other occurrences.\n",
    "b) Perform logistic regression.\n",
    "c) Plot regression curve and 95%-confidence intervals."
   ]
  },
  {
   "cell_type": "markdown",
   "metadata": {},
   "source": [
    "Exercise 8. For each European locality, calculate the expected propor\u0002tion of first occurrences in the focal area surrounding the locality using\n",
    "the logistic regression calculated in exercise 7."
   ]
  },
  {
   "cell_type": "markdown",
   "metadata": {},
   "source": [
    "Exercise 9. For each European locality, calculate the probability of ob\u0002serving as many or more first occurrences in the focal area than what is\n",
    "actually found. Assume that occurrences are binomially distributed to\n",
    "“first occurrences” and “not first occurrences”, so that the probability of\n",
    "a given occurrence to be a first occurrence is equal to the expected pro\u0002portion of first occurrences in the focal area. You may use, for example,\n",
    "the scipy.stats.binom library (https://docs.scipy.org/doc/scipy-0.14.0/\n",
    "reference/generated/scipy.stats.binom.html) for the calculations."
   ]
  },
  {
   "cell_type": "markdown",
   "metadata": {},
   "source": [
    "Exercise 10. For each time unit, plot localities on a map covering the\n",
    "coordinates defined in exercise 7a and indicate their significance level with\n",
    "a sliding color scheme. Highlight localities that have p-value less than\n",
    "0.05 (i.e. probability of observations is less than 0.05). Describe briefly\n",
    "the overall patterns that you observe.\n"
   ]
  }
 ],
 "metadata": {
  "kernelspec": {
   "display_name": "Python 3",
   "language": "python",
   "name": "python3"
  },
  "language_info": {
   "codemirror_mode": {
    "name": "ipython",
    "version": 3
   },
   "file_extension": ".py",
   "mimetype": "text/x-python",
   "name": "python",
   "nbconvert_exporter": "python",
   "pygments_lexer": "ipython3",
   "version": "3.7.6"
  }
 },
 "nbformat": 4,
 "nbformat_minor": 4
}
